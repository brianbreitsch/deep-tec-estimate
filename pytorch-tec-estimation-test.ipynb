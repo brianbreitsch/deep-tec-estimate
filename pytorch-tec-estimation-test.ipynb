{
 "cells": [
  {
   "cell_type": "code",
   "execution_count": 1,
   "metadata": {},
   "outputs": [],
   "source": [
    "import os\n",
    "\n",
    "import torch\n",
    "from torch.nn import functional as F\n",
    "from torch.utils.data import DataLoader\n",
    "from torchvision.datasets import MNIST\n",
    "from torchvision import transforms\n",
    "\n",
    "import pytorch_lightning as pl\n",
    "\n",
    "# from scint_dataset import ScintillationDataset"
   ]
  },
  {
   "cell_type": "code",
   "execution_count": 12,
   "metadata": {},
   "outputs": [],
   "source": [
    "\n",
    "import torch\n",
    "from torch.utils.data import Dataset\n",
    "\n",
    "import warnings\n",
    "import numpy\n",
    "from numpy import array, concatenate, arange, unwrap, angle\n",
    "from scipy.constants import c, pi\n",
    "from compact_simulator import simulate_scintillation\n",
    "fL1 = 1.57542e9\n",
    "fL2 = 1.2276e9\n",
    "fL5 = 1.17645e9\n",
    "\n",
    "\n",
    "class ScintillationDataset(Dataset):\n",
    "\n",
    "    def __init__(self, length, set_index):\n",
    "        '''\n",
    "        '''\n",
    "        self.length = length\n",
    "        self.set_index = set_index\n",
    "\n",
    "    def __len__(self):\n",
    "        return self.length\n",
    "\n",
    "    def __getitem__(self, idx):\n",
    "        U, mu0, p1, p2, roveff = 1.2, 1, 2.6, 3.2, 0.9\n",
    "        freqs = array([fL1, fL2, fL5])\n",
    "        Nt = 2**12\n",
    "        Nf = len(freqs)\n",
    "        dt = 0.01\n",
    "\n",
    "        alpha = array(list(map(lambda f: 40.308e16 / f**2, freqs)))\n",
    "\n",
    "        warnings.filterwarnings('ignore')\n",
    "        psi, phase_screens = simulate_scintillation(U, mu0, p1, p2, roveff, freqs, Nt, dt, self.set_index * self.length + idx)\n",
    "        TEC = numpy.mean(phase_screens[:, :] * c * freqs[:, None] / 40.308e16 / (2 * pi), axis=0)\n",
    "        \n",
    "        phases = array([unwrap(angle(psi[k, :])) for k in range(Nf)])\n",
    "        amplitudes = array([abs(psi[k, :]) for k in range(Nf)])\n",
    "        \n",
    "        x = concatenate((phases, amplitudes), axis=0)\n",
    "        y = TEC\n",
    "        return torch.FloatTensor(x), torch.FloatTensor(y)"
   ]
  },
  {
   "cell_type": "code",
   "execution_count": 13,
   "metadata": {},
   "outputs": [],
   "source": [
    "dataset = ScintillationDataset(100, 0)"
   ]
  },
  {
   "cell_type": "code",
   "execution_count": 15,
   "metadata": {},
   "outputs": [
    {
     "name": "stdout",
     "output_type": "stream",
     "text": [
      "torch.Size([6, 4096]) torch.Size([4096])\n"
     ]
    }
   ],
   "source": [
    "x, y = dataset[20001]\n",
    "print(x.shape, y.shape)"
   ]
  },
  {
   "cell_type": "code",
   "execution_count": 16,
   "metadata": {},
   "outputs": [],
   "source": [
    "class BrianSystem(pl.LightningModule):\n",
    "\n",
    "    def __init__(self):\n",
    "        super(BrianSystem, self).__init__()\n",
    "        # not the best model...\n",
    "        self.conv1 = torch.nn.Conv1d(6, 64, 5, padding=2)\n",
    "        self.conv2 = torch.nn.Conv1d(64, 8, 1)\n",
    "        self.conv3 = torch.nn.Conv1d(8, 64, 5, padding=2)\n",
    "        self.conv4 = torch.nn.Conv1d(64, 8, 1)\n",
    "        self.conv5 = torch.nn.Conv1d(8, 64, 5, padding=2)\n",
    "        self.conv6 = torch.nn.Conv1d(64, 1, 1)\n",
    "\n",
    "    def forward(self, x):\n",
    "        out = torch.relu(self.conv1(x))\n",
    "        out = torch.relu(self.conv2(out))\n",
    "        out = torch.relu(self.conv3(out))\n",
    "        out = torch.relu(self.conv4(out))\n",
    "        out = torch.relu(self.conv5(out))\n",
    "        out = self.conv6(out)\n",
    "        return out\n",
    "    \n",
    "    def training_step(self, batch, batch_idx):\n",
    "        # REQUIRED\n",
    "        x, y = batch\n",
    "        y_hat = self.forward(x)\n",
    "        loss = F.mse_loss(y_hat, y)\n",
    "        tensorboard_logs = {'train_loss': loss}\n",
    "        return {'loss': loss, 'log': tensorboard_logs}\n",
    "\n",
    "    def validation_step(self, batch, batch_idx):\n",
    "        # OPTIONAL\n",
    "        x, y = batch\n",
    "        y_hat = self.forward(x)\n",
    "        return {'val_loss': F.mse_loss(y_hat, y)}\n",
    "\n",
    "    def validation_end(self, outputs):\n",
    "        # OPTIONAL\n",
    "        avg_loss = torch.stack([x['val_loss'] for x in outputs]).mean()\n",
    "        tensorboard_logs = {'val_loss': avg_loss}\n",
    "        return {'avg_val_loss': avg_loss, 'log': tensorboard_logs}\n",
    "\n",
    "    def configure_optimizers(self):\n",
    "        # REQUIRED\n",
    "        # can return multiple optimizers and learning_rate schedulers\n",
    "        # (LBFGS it is automatically supported, no need for closure function)\n",
    "        return torch.optim.Adam(self.parameters(), lr=0.02)\n",
    "\n",
    "    @pl.data_loader\n",
    "    def train_dataloader(self):\n",
    "        # REQUIRED\n",
    "        return DataLoader(ScintillationDataset(10000, 0), 32)\n",
    "\n",
    "    @pl.data_loader\n",
    "    def val_dataloader(self):\n",
    "        # OPTIONAL\n",
    "        return DataLoader(ScintillationDataset(10000, 1), 32)\n",
    "\n",
    "    @pl.data_loader\n",
    "    def test_dataloader(self):\n",
    "        # OPTIONAL\n",
    "        return DataLoader(ScintillationDataset(10000, 2), 32)"
   ]
  },
  {
   "cell_type": "code",
   "execution_count": 17,
   "metadata": {},
   "outputs": [],
   "source": [
    "from pytorch_lightning import Trainer\n",
    "\n",
    "model = BrianSystem()"
   ]
  },
  {
   "cell_type": "code",
   "execution_count": 13,
   "metadata": {},
   "outputs": [],
   "source": [
    "# most basic trainer, uses good defaults\n",
    "trainer = Trainer()    \n",
    "trainer.fit(model)"
   ]
  },
  {
   "cell_type": "code",
   "execution_count": 18,
   "metadata": {},
   "outputs": [],
   "source": [
    "y_hat = model(x.unsqueeze(0))"
   ]
  },
  {
   "cell_type": "code",
   "execution_count": 20,
   "metadata": {},
   "outputs": [
    {
     "data": {
      "text/plain": [
       "<Figure size 2000x600 with 1 Axes>"
      ]
     },
     "metadata": {},
     "output_type": "display_data"
    }
   ],
   "source": [
    "import matplotlib.pyplot as plt\n",
    "\n",
    "fig = plt.figure(figsize=(10, 3), dpi=200)\n",
    "ax = fig.add_subplot(111)\n",
    "ax.plot(y[:])\n",
    "ax.plot(y_hat.detach().numpy()[0, 0, :])\n",
    "plt.show()"
   ]
  }
 ],
 "metadata": {
  "kernelspec": {
   "display_name": "Python 3",
   "language": "python",
   "name": "python3"
  },
  "language_info": {
   "codemirror_mode": {
    "name": "ipython",
    "version": 3
   },
   "file_extension": ".py",
   "mimetype": "text/x-python",
   "name": "python",
   "nbconvert_exporter": "python",
   "pygments_lexer": "ipython3",
   "version": "3.7.3"
  }
 },
 "nbformat": 4,
 "nbformat_minor": 4
}
